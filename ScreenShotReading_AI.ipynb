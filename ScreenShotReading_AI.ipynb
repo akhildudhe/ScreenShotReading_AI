{
 "cells": [
  {
   "cell_type": "code",
   "execution_count": null,
   "metadata": {},
   "outputs": [],
   "source": [
    "import pyautogui\n",
    "import tkinter as tk\n",
    "from PIL import ImageTk, Image\n",
    "\n",
    "class main:\n",
    "    def __init__(self,master,width,height,image):\n",
    "        self.master = master     \n",
    "        self.old_x= None\n",
    "        self.old_y= None\n",
    "        self.width= width\n",
    "        self.height= height\n",
    "        self.c = Canvas(width=self.width,height=self.height)\n",
    "        self.c.pack(fill=BOTH,expand=YES)\n",
    "        self.image = image\n",
    "        self.c.create_image(1, 1, image = self.image, anchor = NW)\n",
    "        self.c.bind('<Button-1>',self.getXY)\n",
    "        self.c.bind('<ButtonRelease-1>',self.paint)\n",
    "    \n",
    "\n",
    "        \n",
    "    def getXY(self,e):\n",
    "        self.old_x=e.x\n",
    "        self.old_y=e.y\n",
    "\n",
    "    def paint(self,e):\n",
    "        self.c.create_line(self.old_x,self.old_y,e.x,self.old_y, width=5,fill='black',capstyle=ROUND,smooth=True)\n",
    "        self.c.create_line(self.old_x,self.old_y,self.old_x,e.y, width=5,fill='black',capstyle=ROUND,smooth=True)\n",
    "        self.c.create_line(self.old_x,e.y,e.x,e.y,     width=5,fill='black',capstyle=ROUND,smooth=True)\n",
    "        self.c.create_line(e.x,self.old_y,e.x,e.y,     width=5,fill='black',capstyle=ROUND,smooth=True)\n",
    "\n",
    "if __name__ == '__main__':\n",
    "    root = tk.Tk()\n",
    "#     im1 = pyautogui.screenshot()\n",
    "#     x,y = im1.size\n",
    "#     im1.save('./image/test.png')\n",
    "    with Image.open(\"./image/test.png\") as im:\n",
    "        width, height = im.size\n",
    "    im=ImageTk.PhotoImage(file = \"./image/test.png\")\n",
    "    main(root,width,height,im)\n",
    "    root.title('Application')\n",
    "    root.mainloop()\n",
    "    "
   ]
  }
 ],
 "metadata": {
  "kernelspec": {
   "display_name": "Python 3",
   "language": "python",
   "name": "python3"
  },
  "language_info": {
   "codemirror_mode": {
    "name": "ipython",
    "version": 3
   },
   "file_extension": ".py",
   "mimetype": "text/x-python",
   "name": "python",
   "nbconvert_exporter": "python",
   "pygments_lexer": "ipython3",
   "version": "3.7.7"
  }
 },
 "nbformat": 4,
 "nbformat_minor": 4
}
